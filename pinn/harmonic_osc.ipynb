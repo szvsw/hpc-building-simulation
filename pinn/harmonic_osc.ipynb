{
 "cells": [
  {
   "cell_type": "code",
   "execution_count": 3,
   "metadata": {},
   "outputs": [],
   "source": [
    "import torch\n",
    "import torch.nn as nn\n",
    "import numpy as np\n",
    "\n",
    "from tqdm.notebook import tqdm\n",
    "\n",
    "import matplotlib\n",
    "import matplotlib.pyplot as plt"
   ]
  },
  {
   "cell_type": "code",
   "execution_count": 4,
   "metadata": {},
   "outputs": [],
   "source": [
    "matplotlib.rcParams[\"figure.dpi\"] = 100\n",
    "plt.rcParams[\"hatch.color\"] = \"white\"\n",
    "\n",
    "# load style sheet for matplotlib, a plotting library we use for 2D visualizations\n",
    "plt.style.use(\n",
    "    \"https://github.com/dhaitz/matplotlib-stylesheets/raw/master/pitayasmoothie-dark.mplstyle\"\n",
    ")\n",
    "plt.style.use(\"dark_background\")\n",
    "plt.rcParams.update(\n",
    "    {\n",
    "        \"figure.facecolor\": (0.22, 0.22, 0.22, 1.0),\n",
    "        \"axes.facecolor\": (0.22, 0.22, 0.22, 1.0),\n",
    "        \"savefig.facecolor\": (0.22, 0.22, 0.22, 1.0),\n",
    "        \"grid.color\": (0.4, 0.4, 0.4, 1.0),\n",
    "    }\n",
    ")"
   ]
  },
  {
   "cell_type": "code",
   "execution_count": 5,
   "metadata": {},
   "outputs": [
    {
     "name": "stdout",
     "output_type": "stream",
     "text": [
      "Using cuda\n"
     ]
    }
   ],
   "source": [
    "device = 'cuda' if torch.cuda.is_available() else 'device'\n",
    "print(f\"Using {device}\")"
   ]
  },
  {
   "cell_type": "code",
   "execution_count": 124,
   "metadata": {},
   "outputs": [],
   "source": [
    "class MLP(nn.Module):\n",
    "    def __init__(self, input_dim=1, hidden_layer_ct=2, hidden_dim=64, output_dim=1, activation=nn.Tanh(), *args, **kwargs) -> None:\n",
    "        super(MLP,self).__init__(*args, **kwargs)\n",
    "        self.input_dim = input_dim\n",
    "        self.input_layer = nn.Sequential(nn.Linear(input_dim,hidden_dim), activation)\n",
    "        hidden_layers = []\n",
    "        for _ in range(hidden_layer_ct):\n",
    "            hidden_layers.append(nn.Linear(hidden_dim,hidden_dim))\n",
    "            hidden_layers.append(activation)\n",
    "        self.hidden_layers = nn.Sequential(*hidden_layers)\n",
    "        self.output_layer = nn.Sequential(nn.Linear(hidden_dim,output_dim))\n",
    "    \n",
    "    def forward(self, x):\n",
    "        x = self.input_layer(x)\n",
    "        x = self.hidden_layers(x)\n",
    "        x = self.output_layer(x)\n",
    "        return x"
   ]
  },
  {
   "cell_type": "code",
   "execution_count": 134,
   "metadata": {},
   "outputs": [],
   "source": [
    "class PINN_0D:\n",
    "    def __init__(self, net=MLP()) -> None:\n",
    "        self.net = net.to(device)\n",
    "        self.t_bounds = [0,2]\n",
    "        self.collocation_ct = 250\n",
    "        self.dim = 1\n",
    "        \n",
    "        self.loss_fn = nn.MSELoss()\n",
    "        self.adam = torch.optim.Adam(self.net.parameters(), lr=1e-4)\n",
    "        self.lbfgs = torch.optim.LBFGS(\n",
    "            self.net.parameters(),\n",
    "            history_size=50,\n",
    "            tolerance_grad=1e-7, \n",
    "            tolerance_change=1.0 * np.finfo(float).eps,\n",
    "            line_search_fn=\"strong_wolfe\",   # better numerical stability\n",
    "        )\n",
    "\n",
    "        self.harmonic_osc_k = 8\n",
    "        self.harmonic_osc_mu = 0.1\n",
    "\n",
    "        self.runs = []\n",
    "        self.loss_history = []\n",
    "  \n",
    "    def sample_ics(self):\n",
    "        pts = torch.Tensor([\n",
    "            [self.t_bounds[0]],\n",
    "        ]).to(device).requires_grad_(True)\n",
    "\n",
    "        u = torch.Tensor([\n",
    "            [1],\n",
    "        ]).to(device).requires_grad_(True)\n",
    "\n",
    "        u_t = torch.Tensor([\n",
    "            [0],\n",
    "        ]).to(device).requires_grad_(True)\n",
    "\n",
    "        return pts, u, u_t\n",
    "\n",
    "    def sample_collocation(self):\n",
    "        pts_norm = torch.rand((self.collocation_ct, self.dim), device=device).requires_grad_(True)\n",
    "        pts = pts_norm * (self.t_bounds[1]- self.t_bounds[0]) + self.t_bounds[0]\n",
    "        return pts \n",
    "\n",
    "    def train_step(self):\n",
    "        self.adam.zero_grad()\n",
    "        self.lbfgs.zero_grad()\n",
    "\n",
    "        pts_ic, u_ic, u_t_ic = self.sample_ics()\n",
    "        pts_col = self.sample_collocation()\n",
    "        pts = torch.vstack([pts_ic, pts_col])\n",
    "        u_pred = self.net(pts)\n",
    "        u_ic_pred = u_pred[:pts_ic.shape[0]]\n",
    "        u_col_pred = u_pred[pts_ic.shape[0]:]\n",
    "\n",
    "        u_t_pred = torch.autograd.grad(\n",
    "            inputs=pts,\n",
    "            outputs= u_pred,\n",
    "            grad_outputs=torch.ones_like(u_pred).to(device),\n",
    "            create_graph=True\n",
    "        )[0]\n",
    "\n",
    "        u_t_ic_pred = u_t_pred[:pts_ic.shape[0]]\n",
    "        u_t_col_pred = u_t_pred[pts_ic.shape[0]:]\n",
    "\n",
    "        u_tt_pred = torch.autograd.grad(\n",
    "            inputs=pts,\n",
    "            outputs=u_t_pred,\n",
    "            grad_outputs=torch.ones_like(u_t_pred).to(device),\n",
    "            create_graph=True\n",
    "        )[0]\n",
    "\n",
    "        u_tt_ic_pred = u_tt_pred[:pts_ic.shape[0]]\n",
    "        u_tt_col_pred = u_tt_pred[pts_ic.shape[0]:]\n",
    "\n",
    "        loss_u_ic = self.loss_fn(u_ic_pred,u_ic)\n",
    "        loss_u_t_ic = self.loss_fn(u_t_ic_pred,u_t_ic)\n",
    "\n",
    "        # Harmonic Oscillator\n",
    "        governing_eq = u_tt_col_pred + self.harmonic_osc_mu * u_t_col_pred + self.harmonic_osc_k * u_col_pred\n",
    "\n",
    "        # loss physics\n",
    "        loss_physics = torch.mean(governing_eq**2)\n",
    "        known_pts = torch.linspace(*self.t_bounds,7).to(device).requires_grad_(True).reshape(-1,1)\n",
    "        u_known_true = self.oscillator_true(known_pts)\n",
    "        u_known_pred = self.net(known_pts)\n",
    "        loss_known = self.loss_fn(u_known_pred, u_known_true)\n",
    "\n",
    "        loss = loss_u_ic + loss_u_t_ic + 0.01*loss_physics + loss_known\n",
    "        # loss = loss_known\n",
    "        loss.backward()\n",
    "        return loss\n",
    "    \n",
    "    def train(self, n_epochs=500, mode='Adam', reporting_frequency=500):\n",
    "        results = {\n",
    "            \"loss\": []\n",
    "        }\n",
    "        # plt.figure()\n",
    "        for it in range(n_epochs):\n",
    "            loss = self.adam.step(self.train_step) if mode == \"Adam\" else self.lbfgs.step(self.train_step)\n",
    "            results[\"loss\"].append(loss.item())\n",
    "            self.loss_history.append(loss.item())\n",
    "            if (it) % reporting_frequency == 0:\n",
    "                print(loss)\n",
    "                # plt.cla()\n",
    "                # plt.plot(self.loss_history)\n",
    "                # plt.title(f\"Loss {it}\")\n",
    "                # plt.show()\n",
    "            if it ==n_epochs-1:\n",
    "                print(loss)\n",
    "        \n",
    "        self.runs.append(results)\n",
    "\n",
    "    def oscillator_true(self, t):\n",
    "        \"\"\"Defines the analytical solution to the 1D underdamped harmonic oscillator problem. \n",
    "        Equations taken from: https://beltoforion.de/en/harmonic_oscillator/\"\"\"\n",
    "        d = self.harmonic_osc_mu/2\n",
    "        w0 = np.sqrt(self.harmonic_osc_k)\n",
    "        assert d < w0\n",
    "        w = np.sqrt(w0**2-d**2)\n",
    "        phi = np.arctan(-d/w)\n",
    "        A = 1/(2*np.cos(phi))\n",
    "        cos = torch.cos(phi+w*t)\n",
    "        sin = torch.sin(phi+w*t)\n",
    "        exp = torch.exp(-d*t)\n",
    "        y  = exp*2*A*cos\n",
    "        return y\n",
    "\n",
    "        \n",
    "\n",
    "        "
   ]
  },
  {
   "cell_type": "code",
   "execution_count": 135,
   "metadata": {},
   "outputs": [],
   "source": [
    "pinn = PINN_0D()\n"
   ]
  },
  {
   "cell_type": "code",
   "execution_count": 136,
   "metadata": {},
   "outputs": [
    {
     "name": "stdout",
     "output_type": "stream",
     "text": [
      "tensor(2.2286, device='cuda:0', grad_fn=<AddBackward0>)\n",
      "tensor(1.6718, device='cuda:0', grad_fn=<AddBackward0>)\n",
      "tensor(1.4863, device='cuda:0', grad_fn=<AddBackward0>)\n",
      "tensor(1.4806, device='cuda:0', grad_fn=<AddBackward0>)\n",
      "tensor(1.3679, device='cuda:0', grad_fn=<AddBackward0>)\n",
      "tensor(1.3704, device='cuda:0', grad_fn=<AddBackward0>)\n",
      "tensor(1.3899, device='cuda:0', grad_fn=<AddBackward0>)\n",
      "tensor(1.3447, device='cuda:0', grad_fn=<AddBackward0>)\n",
      "tensor(1.3412, device='cuda:0', grad_fn=<AddBackward0>)\n"
     ]
    },
    {
     "ename": "KeyboardInterrupt",
     "evalue": "",
     "output_type": "error",
     "traceback": [
      "\u001b[1;31m---------------------------------------------------------------------------\u001b[0m",
      "\u001b[1;31mKeyboardInterrupt\u001b[0m                         Traceback (most recent call last)",
      "Cell \u001b[1;32mIn[136], line 3\u001b[0m\n\u001b[0;32m      1\u001b[0m pinn\u001b[39m.\u001b[39mharmonic_osc_k \u001b[39m=\u001b[39m \u001b[39m100\u001b[39m\n\u001b[0;32m      2\u001b[0m pinn\u001b[39m.\u001b[39mtrain(n_epochs\u001b[39m=\u001b[39m\u001b[39m20\u001b[39m, reporting_frequency\u001b[39m=\u001b[39m\u001b[39m10\u001b[39m, mode\u001b[39m=\u001b[39m\u001b[39m\"\u001b[39m\u001b[39mAdam\u001b[39m\u001b[39m\"\u001b[39m)\n\u001b[1;32m----> 3\u001b[0m pinn\u001b[39m.\u001b[39;49mtrain(n_epochs\u001b[39m=\u001b[39;49m\u001b[39m1000\u001b[39;49m, reporting_frequency\u001b[39m=\u001b[39;49m\u001b[39m100\u001b[39;49m, mode\u001b[39m=\u001b[39;49m\u001b[39m\"\u001b[39;49m\u001b[39mlb\u001b[39;49m\u001b[39m\"\u001b[39;49m)\n",
      "Cell \u001b[1;32mIn[134], line 99\u001b[0m, in \u001b[0;36mPINN_0D.train\u001b[1;34m(self, n_epochs, mode, reporting_frequency)\u001b[0m\n\u001b[0;32m     97\u001b[0m \u001b[39m# plt.figure()\u001b[39;00m\n\u001b[0;32m     98\u001b[0m \u001b[39mfor\u001b[39;00m it \u001b[39min\u001b[39;00m \u001b[39mrange\u001b[39m(n_epochs):\n\u001b[1;32m---> 99\u001b[0m     loss \u001b[39m=\u001b[39m \u001b[39mself\u001b[39m\u001b[39m.\u001b[39madam\u001b[39m.\u001b[39mstep(\u001b[39mself\u001b[39m\u001b[39m.\u001b[39mtrain_step) \u001b[39mif\u001b[39;00m mode \u001b[39m==\u001b[39m \u001b[39m\"\u001b[39m\u001b[39mAdam\u001b[39m\u001b[39m\"\u001b[39m \u001b[39melse\u001b[39;00m \u001b[39mself\u001b[39;49m\u001b[39m.\u001b[39;49mlbfgs\u001b[39m.\u001b[39;49mstep(\u001b[39mself\u001b[39;49m\u001b[39m.\u001b[39;49mtrain_step)\n\u001b[0;32m    100\u001b[0m     results[\u001b[39m\"\u001b[39m\u001b[39mloss\u001b[39m\u001b[39m\"\u001b[39m]\u001b[39m.\u001b[39mappend(loss\u001b[39m.\u001b[39mitem())\n\u001b[0;32m    101\u001b[0m     \u001b[39mself\u001b[39m\u001b[39m.\u001b[39mloss_history\u001b[39m.\u001b[39mappend(loss\u001b[39m.\u001b[39mitem())\n",
      "File \u001b[1;32mc:\\tools\\Anaconda3\\envs\\torch\\lib\\site-packages\\torch\\optim\\optimizer.py:280\u001b[0m, in \u001b[0;36mOptimizer.profile_hook_step.<locals>.wrapper\u001b[1;34m(*args, **kwargs)\u001b[0m\n\u001b[0;32m    276\u001b[0m         \u001b[39melse\u001b[39;00m:\n\u001b[0;32m    277\u001b[0m             \u001b[39mraise\u001b[39;00m \u001b[39mRuntimeError\u001b[39;00m(\u001b[39mf\u001b[39m\u001b[39m\"\u001b[39m\u001b[39m{\u001b[39;00mfunc\u001b[39m}\u001b[39;00m\u001b[39m must return None or a tuple of (new_args, new_kwargs),\u001b[39m\u001b[39m\"\u001b[39m\n\u001b[0;32m    278\u001b[0m                                \u001b[39mf\u001b[39m\u001b[39m\"\u001b[39m\u001b[39mbut got \u001b[39m\u001b[39m{\u001b[39;00mresult\u001b[39m}\u001b[39;00m\u001b[39m.\u001b[39m\u001b[39m\"\u001b[39m)\n\u001b[1;32m--> 280\u001b[0m out \u001b[39m=\u001b[39m func(\u001b[39m*\u001b[39;49margs, \u001b[39m*\u001b[39;49m\u001b[39m*\u001b[39;49mkwargs)\n\u001b[0;32m    281\u001b[0m \u001b[39mself\u001b[39m\u001b[39m.\u001b[39m_optimizer_step_code()\n\u001b[0;32m    283\u001b[0m \u001b[39m# call optimizer step post hooks\u001b[39;00m\n",
      "File \u001b[1;32mc:\\tools\\Anaconda3\\envs\\torch\\lib\\site-packages\\torch\\utils\\_contextlib.py:115\u001b[0m, in \u001b[0;36mcontext_decorator.<locals>.decorate_context\u001b[1;34m(*args, **kwargs)\u001b[0m\n\u001b[0;32m    112\u001b[0m \u001b[39m@functools\u001b[39m\u001b[39m.\u001b[39mwraps(func)\n\u001b[0;32m    113\u001b[0m \u001b[39mdef\u001b[39;00m \u001b[39mdecorate_context\u001b[39m(\u001b[39m*\u001b[39margs, \u001b[39m*\u001b[39m\u001b[39m*\u001b[39mkwargs):\n\u001b[0;32m    114\u001b[0m     \u001b[39mwith\u001b[39;00m ctx_factory():\n\u001b[1;32m--> 115\u001b[0m         \u001b[39mreturn\u001b[39;00m func(\u001b[39m*\u001b[39;49margs, \u001b[39m*\u001b[39;49m\u001b[39m*\u001b[39;49mkwargs)\n",
      "File \u001b[1;32mc:\\tools\\Anaconda3\\envs\\torch\\lib\\site-packages\\torch\\optim\\lbfgs.py:426\u001b[0m, in \u001b[0;36mLBFGS.step\u001b[1;34m(self, closure)\u001b[0m\n\u001b[0;32m    423\u001b[0m     \u001b[39mdef\u001b[39;00m \u001b[39mobj_func\u001b[39m(x, t, d):\n\u001b[0;32m    424\u001b[0m         \u001b[39mreturn\u001b[39;00m \u001b[39mself\u001b[39m\u001b[39m.\u001b[39m_directional_evaluate(closure, x, t, d)\n\u001b[1;32m--> 426\u001b[0m     loss, flat_grad, t, ls_func_evals \u001b[39m=\u001b[39m _strong_wolfe(\n\u001b[0;32m    427\u001b[0m         obj_func, x_init, t, d, loss, flat_grad, gtd)\n\u001b[0;32m    428\u001b[0m \u001b[39mself\u001b[39m\u001b[39m.\u001b[39m_add_grad(t, d)\n\u001b[0;32m    429\u001b[0m opt_cond \u001b[39m=\u001b[39m flat_grad\u001b[39m.\u001b[39mabs()\u001b[39m.\u001b[39mmax() \u001b[39m<\u001b[39m\u001b[39m=\u001b[39m tolerance_grad\n",
      "File \u001b[1;32mc:\\tools\\Anaconda3\\envs\\torch\\lib\\site-packages\\torch\\optim\\lbfgs.py:99\u001b[0m, in \u001b[0;36m_strong_wolfe\u001b[1;34m(obj_func, x, t, d, f, g, gtd, c1, c2, tolerance_change, max_ls)\u001b[0m\n\u001b[0;32m     97\u001b[0m g_prev \u001b[39m=\u001b[39m g_new\u001b[39m.\u001b[39mclone(memory_format\u001b[39m=\u001b[39mtorch\u001b[39m.\u001b[39mcontiguous_format)\n\u001b[0;32m     98\u001b[0m gtd_prev \u001b[39m=\u001b[39m gtd_new\n\u001b[1;32m---> 99\u001b[0m f_new, g_new \u001b[39m=\u001b[39m obj_func(x, t, d)\n\u001b[0;32m    100\u001b[0m ls_func_evals \u001b[39m+\u001b[39m\u001b[39m=\u001b[39m \u001b[39m1\u001b[39m\n\u001b[0;32m    101\u001b[0m gtd_new \u001b[39m=\u001b[39m g_new\u001b[39m.\u001b[39mdot(d)\n",
      "File \u001b[1;32mc:\\tools\\Anaconda3\\envs\\torch\\lib\\site-packages\\torch\\optim\\lbfgs.py:424\u001b[0m, in \u001b[0;36mLBFGS.step.<locals>.obj_func\u001b[1;34m(x, t, d)\u001b[0m\n\u001b[0;32m    423\u001b[0m \u001b[39mdef\u001b[39;00m \u001b[39mobj_func\u001b[39m(x, t, d):\n\u001b[1;32m--> 424\u001b[0m     \u001b[39mreturn\u001b[39;00m \u001b[39mself\u001b[39;49m\u001b[39m.\u001b[39;49m_directional_evaluate(closure, x, t, d)\n",
      "File \u001b[1;32mc:\\tools\\Anaconda3\\envs\\torch\\lib\\site-packages\\torch\\optim\\lbfgs.py:278\u001b[0m, in \u001b[0;36mLBFGS._directional_evaluate\u001b[1;34m(self, closure, x, t, d)\u001b[0m\n\u001b[0;32m    276\u001b[0m \u001b[39mdef\u001b[39;00m \u001b[39m_directional_evaluate\u001b[39m(\u001b[39mself\u001b[39m, closure, x, t, d):\n\u001b[0;32m    277\u001b[0m     \u001b[39mself\u001b[39m\u001b[39m.\u001b[39m_add_grad(t, d)\n\u001b[1;32m--> 278\u001b[0m     loss \u001b[39m=\u001b[39m \u001b[39mfloat\u001b[39m(closure())\n\u001b[0;32m    279\u001b[0m     flat_grad \u001b[39m=\u001b[39m \u001b[39mself\u001b[39m\u001b[39m.\u001b[39m_gather_flat_grad()\n\u001b[0;32m    280\u001b[0m     \u001b[39mself\u001b[39m\u001b[39m.\u001b[39m_set_param(x)\n",
      "File \u001b[1;32mc:\\tools\\Anaconda3\\envs\\torch\\lib\\site-packages\\torch\\utils\\_contextlib.py:115\u001b[0m, in \u001b[0;36mcontext_decorator.<locals>.decorate_context\u001b[1;34m(*args, **kwargs)\u001b[0m\n\u001b[0;32m    112\u001b[0m \u001b[39m@functools\u001b[39m\u001b[39m.\u001b[39mwraps(func)\n\u001b[0;32m    113\u001b[0m \u001b[39mdef\u001b[39;00m \u001b[39mdecorate_context\u001b[39m(\u001b[39m*\u001b[39margs, \u001b[39m*\u001b[39m\u001b[39m*\u001b[39mkwargs):\n\u001b[0;32m    114\u001b[0m     \u001b[39mwith\u001b[39;00m ctx_factory():\n\u001b[1;32m--> 115\u001b[0m         \u001b[39mreturn\u001b[39;00m func(\u001b[39m*\u001b[39;49margs, \u001b[39m*\u001b[39;49m\u001b[39m*\u001b[39;49mkwargs)\n",
      "Cell \u001b[1;32mIn[134], line 90\u001b[0m, in \u001b[0;36mPINN_0D.train_step\u001b[1;34m(self)\u001b[0m\n\u001b[0;32m     88\u001b[0m loss \u001b[39m=\u001b[39m loss_u_ic \u001b[39m+\u001b[39m loss_u_t_ic \u001b[39m+\u001b[39m \u001b[39m0.01\u001b[39m\u001b[39m*\u001b[39mloss_physics \u001b[39m+\u001b[39m loss_known\n\u001b[0;32m     89\u001b[0m \u001b[39m# loss = loss_known\u001b[39;00m\n\u001b[1;32m---> 90\u001b[0m loss\u001b[39m.\u001b[39;49mbackward()\n\u001b[0;32m     91\u001b[0m \u001b[39mreturn\u001b[39;00m loss\n",
      "File \u001b[1;32mc:\\tools\\Anaconda3\\envs\\torch\\lib\\site-packages\\torch\\_tensor.py:487\u001b[0m, in \u001b[0;36mTensor.backward\u001b[1;34m(self, gradient, retain_graph, create_graph, inputs)\u001b[0m\n\u001b[0;32m    477\u001b[0m \u001b[39mif\u001b[39;00m has_torch_function_unary(\u001b[39mself\u001b[39m):\n\u001b[0;32m    478\u001b[0m     \u001b[39mreturn\u001b[39;00m handle_torch_function(\n\u001b[0;32m    479\u001b[0m         Tensor\u001b[39m.\u001b[39mbackward,\n\u001b[0;32m    480\u001b[0m         (\u001b[39mself\u001b[39m,),\n\u001b[1;32m   (...)\u001b[0m\n\u001b[0;32m    485\u001b[0m         inputs\u001b[39m=\u001b[39minputs,\n\u001b[0;32m    486\u001b[0m     )\n\u001b[1;32m--> 487\u001b[0m torch\u001b[39m.\u001b[39;49mautograd\u001b[39m.\u001b[39;49mbackward(\n\u001b[0;32m    488\u001b[0m     \u001b[39mself\u001b[39;49m, gradient, retain_graph, create_graph, inputs\u001b[39m=\u001b[39;49minputs\n\u001b[0;32m    489\u001b[0m )\n",
      "File \u001b[1;32mc:\\tools\\Anaconda3\\envs\\torch\\lib\\site-packages\\torch\\autograd\\__init__.py:200\u001b[0m, in \u001b[0;36mbackward\u001b[1;34m(tensors, grad_tensors, retain_graph, create_graph, grad_variables, inputs)\u001b[0m\n\u001b[0;32m    195\u001b[0m     retain_graph \u001b[39m=\u001b[39m create_graph\n\u001b[0;32m    197\u001b[0m \u001b[39m# The reason we repeat same the comment below is that\u001b[39;00m\n\u001b[0;32m    198\u001b[0m \u001b[39m# some Python versions print out the first line of a multi-line function\u001b[39;00m\n\u001b[0;32m    199\u001b[0m \u001b[39m# calls in the traceback and some print out the last line\u001b[39;00m\n\u001b[1;32m--> 200\u001b[0m Variable\u001b[39m.\u001b[39;49m_execution_engine\u001b[39m.\u001b[39;49mrun_backward(  \u001b[39m# Calls into the C++ engine to run the backward pass\u001b[39;49;00m\n\u001b[0;32m    201\u001b[0m     tensors, grad_tensors_, retain_graph, create_graph, inputs,\n\u001b[0;32m    202\u001b[0m     allow_unreachable\u001b[39m=\u001b[39;49m\u001b[39mTrue\u001b[39;49;00m, accumulate_grad\u001b[39m=\u001b[39;49m\u001b[39mTrue\u001b[39;49;00m)\n",
      "\u001b[1;31mKeyboardInterrupt\u001b[0m: "
     ]
    }
   ],
   "source": [
    "pinn.harmonic_osc_k = 100\n",
    "pinn.train(n_epochs=20, reporting_frequency=10, mode=\"Adam\")\n",
    "pinn.train(n_epochs=1000, reporting_frequency=100, mode=\"lb\")"
   ]
  },
  {
   "cell_type": "code",
   "execution_count": 140,
   "metadata": {},
   "outputs": [
    {
     "data": {
      "image/png": "[encoded data removed]",
      "text/plain": [
       "<Figure size 640x480 with 1 Axes>"
      ]
     },
     "metadata": {},
     "output_type": "display_data"
    }
   ],
   "source": [
    "with torch.no_grad():\n",
    "    t = torch.linspace(0,2,1000,device=device).reshape(-1,1)\n",
    "    y = pinn.net(t)\n",
    "    ytrue = pinn.oscillator_true(t)\n",
    "    plt.figure()\n",
    "    plt.plot(t.flatten().cpu(),y.flatten().cpu(), label=\"True\")\n",
    "    plt.plot(t.flatten().cpu(),ytrue.flatten().cpu(), label=\"Predicted\")\n",
    "    plt.legend()"
   ]
  }
 ],
 "metadata": {
  "kernelspec": {
   "display_name": "Python 3",
   "language": "python",
   "name": "python3"
  },
  "language_info": {
   "codemirror_mode": {
    "name": "ipython",
    "version": 3
   },
   "file_extension": ".py",
   "mimetype": "text/x-python",
   "name": "python",
   "nbconvert_exporter": "python",
   "pygments_lexer": "ipython3",
   "version": "3.8.16"
  },
  "orig_nbformat": 4
 },
 "nbformat": 4,
 "nbformat_minor": 2
}
